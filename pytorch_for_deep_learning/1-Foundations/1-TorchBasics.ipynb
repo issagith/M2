{
  "cells": [
    {
      "cell_type": "markdown",
      "metadata": {
        "id": "R94DtvC3sxOI"
      },
      "source": [
        "# Module 1 - Exercise 1: Environment & Basics\n",
        "\n",
        "## Learning Objectives\n",
        "- Set up and verify PyTorch environment\n",
        "- Master tensor creation methods and basic properties\n",
        "- Understand tensor device management and CUDA availability\n",
        "- Practice tensor indexing, slicing, and reshaping operations\n",
        "- Convert between PyTorch tensors and NumPy arrays\n",
        "- Explore tensor data types and memory layout"
      ]
    },
    {
      "cell_type": "markdown",
      "metadata": {
        "id": "GSz47G_tsxOK"
      },
      "source": [
        "## Setup and Test Repository\n",
        "\n",
        "First, let's clone the test repository and set up our environment for step-by-step validation with improved testing."
      ]
    },
    {
      "cell_type": "code",
      "execution_count": null,
      "metadata": {
        "id": "1kMMrmVAsxOY"
      },
      "outputs": [],
      "source": [
        "# Clone the test repository\n",
        "!git clone https://github.com/racousin/data_science_practice.git /tmp/tests 2>/dev/null || true\n",
        "\n",
        "# Import required modules\n",
        "import sys\n",
        "sys.path.append('/tmp/tests/tests/python_deep_learning')\n",
        "\n",
        "# Import the improved test utilities\n",
        "from test_utils import NotebookTestRunner, create_inline_test\n",
        "from module1.test_exercise1 import Exercise1Validator, EXERCISE1_SECTIONS\n",
        "\n",
        "# Create test runner and validator\n",
        "test_runner = NotebookTestRunner(\"module1\", 1)\n",
        "validator = Exercise1Validator()\n",
        "\n",
        "print(\"✅ Test framework loaded successfully!\")\n",
        "print(\"You can now run tests for each section as you complete them.\")"
      ]
    },
    {
      "cell_type": "markdown",
      "metadata": {
        "id": "TEeVUpFHsxOZ"
      },
      "source": [
        "## Environment Setup\n",
        "\n",
        "Let's import PyTorch and verify our installation, including CUDA availability."
      ]
    },
    {
      "cell_type": "code",
      "execution_count": null,
      "metadata": {
        "id": "IGGji5ymsxOZ"
      },
      "outputs": [],
      "source": [
        "import torch\n",
        "import numpy as np\n",
        "import matplotlib.pyplot as plt\n",
        "\n",
        "# Print PyTorch version and setup information\n",
        "print(f\"PyTorch version: {torch.__version__}\")\n",
        "print(f\"CUDA available: {torch.cuda.is_available()}\")\n",
        "if torch.cuda.is_available():\n",
        "    print(f\"CUDA version: {torch.version.cuda}\")\n",
        "    print(f\"Number of CUDA devices: {torch.cuda.device_count()}\")\n",
        "    print(f\"Current CUDA device: {torch.cuda.current_device()}\")\n",
        "    print(f\"Device name: {torch.cuda.get_device_name(0)}\")\n",
        "\n",
        "# Set random seeds for reproducibility\n",
        "torch.manual_seed(42)\n",
        "np.random.seed(42)"
      ]
    },
    {
      "cell_type": "markdown",
      "metadata": {
        "id": "9pLadcnusxOa"
      },
      "source": [
        "## Section 1: Tensor Creation\n",
        "\n",
        "Learn different methods to create PyTorch tensors with specific properties."
      ]
    },
    {
      "cell_type": "code",
      "execution_count": null,
      "metadata": {
        "id": "3lv7ix1fsxOa"
      },
      "outputs": [],
      "source": [
        "# TODO: Create a 3x3 tensor filled with zeros\n",
        "tensor_zeros = torch.zeros(3,3)\n",
        "\n",
        "# TODO: Create a 2x4 tensor filled with ones\n",
        "tensor_ones = None\n",
        "\n",
        "# TODO: Create a 3x3 identity matrix\n",
        "tensor_identity = None\n",
        "\n",
        "# TODO: Create a tensor with random values between 0 and 1, shape (2, 3, 4)\n",
        "tensor_random = None\n",
        "\n",
        "# TODO: Create a tensor from a Python list [[1, 2, 3], [4, 5, 6]]\n",
        "tensor_from_list = None\n",
        "\n",
        "# TODO: Create a tensor with values from 0 to 9\n",
        "tensor_range = None\n",
        "\n",
        "# Display your created tensors\n",
        "print(\"Your tensors:\")\n",
        "print(f\"tensor_zeros:\\n{tensor_zeros}\")\n",
        "print(f\"tensor_ones:\\n{tensor_ones}\")\n",
        "print(f\"tensor_identity:\\n{tensor_identity}\")\n",
        "print(f\"tensor_random shape: {tensor_random.shape if tensor_random is not None else 'None'}\")\n",
        "print(f\"tensor_from_list:\\n{tensor_from_list}\")\n",
        "print(f\"tensor_range: {tensor_range}\")"
      ]
    },
    {
      "cell_type": "code",
      "execution_count": null,
      "metadata": {
        "id": "qJ_iq-dqsxOb"
      },
      "outputs": [],
      "source": [
        "# Test Section 1: Tensor Creation\n",
        "section_tests = [(getattr(validator, name), desc) for name, desc in EXERCISE1_SECTIONS[\"Section 1: Tensor Creation\"]]\n",
        "test_runner.test_section(\"Section 1: Tensor Creation\", validator, section_tests, locals())"
      ]
    },
    {
      "cell_type": "markdown",
      "metadata": {
        "id": "QR7_Bc8zsxOb"
      },
      "source": [
        "## Section 2: Device Management\n",
        "\n",
        "Understand how to work with different devices (CPU/CUDA) and move tensors between them."
      ]
    },
    {
      "cell_type": "code",
      "execution_count": null,
      "metadata": {
        "id": "thC5HWIqsxOb"
      },
      "outputs": [],
      "source": [
        "# Create tensors on different devices\n",
        "cpu_tensor = torch.randn(2, 3)\n",
        "print(f\"CPU tensor device: {cpu_tensor.device}\")\n",
        "\n",
        "# Check if CUDA is available and create GPU tensor if possible\n",
        "if torch.cuda.is_available():\n",
        "    gpu_tensor = torch.randn(2, 3, device='cuda')\n",
        "    print(f\"GPU tensor device: {gpu_tensor.device}\")\n",
        "\n",
        "    # Move CPU tensor to GPU\n",
        "    cpu_to_gpu = cpu_tensor.to('cuda')\n",
        "    print(f\"Moved to GPU: {cpu_to_gpu.device}\")\n",
        "\n",
        "    # Move GPU tensor back to CPU\n",
        "    gpu_to_cpu = gpu_tensor.cpu()\n",
        "    print(f\"Moved to CPU: {gpu_to_cpu.device}\")\n",
        "else:\n",
        "    print(\"CUDA not available - all tensors will be on CPU\")\n",
        "\n",
        "# Verify same device operations\n",
        "a = torch.ones(2, 3)\n",
        "b = torch.ones(2, 3)\n",
        "result = a + b  # Both on same device (CPU)\n",
        "print(f\"Addition result shape: {result.shape}, device: {result.device}\")"
      ]
    },
    {
      "cell_type": "markdown",
      "metadata": {
        "id": "rzGCwjx1sxOb"
      },
      "source": [
        "## Section 3: Tensor Attributes\n",
        "\n",
        "Explore tensor properties and metadata information."
      ]
    },
    {
      "cell_type": "code",
      "execution_count": 36,
      "metadata": {
        "colab": {
          "base_uri": "https://localhost:8080/"
        },
        "id": "iodtkTSPsxOb",
        "outputId": "02d1d184-eba6-4c3e-c51e-ebe7c43bfbe1"
      },
      "outputs": [
        {
          "name": "stdout",
          "output_type": "stream",
          "text": [
            "Sample tensor shape: None\n",
            "Data type: None\n",
            "Device: None\n",
            "Number of dimensions: 3\n",
            "Total elements: None\n",
            "Memory size (bytes): 240\n",
            "Stride: (20, 5, 1)\n"
          ]
        }
      ],
      "source": [
        "# Create a sample tensor for analysis\n",
        "sample_tensor = torch.randn(3, 4, 5)\n",
        "\n",
        "# TODO: Get the shape of the tensor\n",
        "tensor_shape = None\n",
        "\n",
        "# TODO: Get the data type of the tensor\n",
        "tensor_dtype = None\n",
        "\n",
        "# TODO: Get the device the tensor is stored on\n",
        "tensor_device = None\n",
        "\n",
        "# TODO: Get the number of dimensions\n",
        "tensor_ndim = sample_tensor.ndim\n",
        "\n",
        "# TODO: Get the total number of elements\n",
        "tensor_numel = None\n",
        "\n",
        "# Display the attributes\n",
        "print(f\"Sample tensor shape: {tensor_shape}\")\n",
        "print(f\"Data type: {tensor_dtype}\")\n",
        "print(f\"Device: {tensor_device}\")\n",
        "print(f\"Number of dimensions: {tensor_ndim}\")\n",
        "print(f\"Total elements: {tensor_numel}\")\n",
        "print(f\"Memory size (bytes): {sample_tensor.element_size() * sample_tensor.numel()}\")\n",
        "print(f\"Stride: {sample_tensor.stride()}\")"
      ]
    },
    {
      "cell_type": "code",
      "execution_count": 37,
      "metadata": {
        "colab": {
          "base_uri": "https://localhost:8080/"
        },
        "id": "-P4XnQTKsxOc",
        "outputId": "4558a788-bdd4-4e4e-e171-dba4a15dcbeb"
      },
      "outputs": [
        {
          "name": "stdout",
          "output_type": "stream",
          "text": [
            "\n",
            "==================================================\n",
            "Testing: Section 3: Tensor Attributes\n",
            "==================================================\n",
            "❌ Get tensor shape: tensor_shape should be torch.Size([3, 4, 5]), got None\n",
            "❌ Get tensor dtype: tensor_dtype should be torch.float32, got None\n",
            "❌ Get tensor device: tensor_device should be cpu, got None\n",
            "✅ Get tensor dimensions\n",
            "❌ Get number of elements: tensor_numel should be 60, got None\n",
            "\n",
            "❌ Section 3: Tensor Attributes - Some tests failed. Review the errors above.\n"
          ]
        },
        {
          "data": {
            "text/plain": [
              "False"
            ]
          },
          "execution_count": 37,
          "metadata": {},
          "output_type": "execute_result"
        }
      ],
      "source": [
        "# Test Section 3: Tensor Attributes\n",
        "section_tests = [(getattr(validator, name), desc) for name, desc in EXERCISE1_SECTIONS[\"Section 3: Tensor Attributes\"]]\n",
        "test_runner.test_section(\"Section 3: Tensor Attributes\", validator, section_tests, locals())"
      ]
    },
    {
      "cell_type": "markdown",
      "metadata": {
        "id": "mJnuAiMfsxOc"
      },
      "source": [
        "## Section 4: Tensor Indexing and Slicing\n",
        "\n",
        "Master accessing and modifying tensor elements using indexing and slicing."
      ]
    },
    {
      "cell_type": "code",
      "execution_count": 50,
      "metadata": {
        "colab": {
          "base_uri": "https://localhost:8080/"
        },
        "id": "DHwcR7jnsxOc",
        "outputId": "f2af1ee4-ede3-4fe1-c736-ee11e8f32ae2"
      },
      "outputs": [
        {
          "name": "stdout",
          "output_type": "stream",
          "text": [
            "Original tensor:\n",
            "tensor([[ 0,  1,  2,  3,  4,  5],\n",
            "        [ 6,  7,  8,  9, 10, 11],\n",
            "        [12, 13, 14, 15, 16, 17],\n",
            "        [18, 19, 20, 21, 22, 23]])\n",
            "Shape: torch.Size([4, 6])\n",
            "\n",
            "Element at (1,3): 9\n",
            "Second row: tensor([ 6,  7,  8,  9, 10, 11])\n",
            "Last column: tensor([ 5, 11, 17, 23])\n",
            "Top-left 2x2 submatrix:\n",
            "tensor([[0, 1],\n",
            "        [6, 7]])\n",
            "Every other element from first row: tensor([0, 2, 4])\n"
          ]
        }
      ],
      "source": [
        "# Create a sample tensor for indexing practice\n",
        "tensor = torch.arange(24).reshape(4, 6)\n",
        "print(\"Original tensor:\")\n",
        "print(tensor)\n",
        "print(f\"Shape: {tensor.shape}\")\n",
        "\n",
        "# TODO: Get the element at position (1, 3)\n",
        "element = tensor[1,3] # = tensor[1][3]\n",
        "\n",
        "# TODO: Get the second row (index 1)\n",
        "second_row = tensor[1]\n",
        "\n",
        "# TODO: Get the last column\n",
        "last_column = tensor[:, -1]\n",
        "\n",
        "# TODO: Get a 2x2 submatrix from the top-left corner\n",
        "submatrix = tensor[:2, :2]\n",
        "\n",
        "# TODO: Get every other element from the first row\n",
        "alternating_elements = tensor[0, ::2]\n",
        "\n",
        "# Display your results\n",
        "print(f\"\\nElement at (1,3): {element}\")\n",
        "print(f\"Second row: {second_row}\")\n",
        "print(f\"Last column: {last_column}\")\n",
        "print(f\"Top-left 2x2 submatrix:\\n{submatrix}\")\n",
        "print(f\"Every other element from first row: {alternating_elements}\")"
      ]
    },
    {
      "cell_type": "code",
      "execution_count": 51,
      "metadata": {
        "colab": {
          "base_uri": "https://localhost:8080/"
        },
        "id": "gWa-VyldsxOc",
        "outputId": "148a5d24-f622-46cb-e694-75936943a559"
      },
      "outputs": [
        {
          "name": "stdout",
          "output_type": "stream",
          "text": [
            "\n",
            "==================================================\n",
            "Testing: Section 4: Indexing and Slicing\n",
            "==================================================\n",
            "✅ Access element at (1,3)\n",
            "✅ Get second row\n",
            "✅ Get last column\n",
            "✅ Get 2x2 submatrix\n",
            "✅ Get alternating elements\n",
            "\n",
            "✅ Section 4: Indexing and Slicing - All tests passed!\n"
          ]
        },
        {
          "data": {
            "text/plain": [
              "True"
            ]
          },
          "execution_count": 51,
          "metadata": {},
          "output_type": "execute_result"
        }
      ],
      "source": [
        "# Test Section 4: Indexing and Slicing\n",
        "section_tests = [(getattr(validator, name), desc) for name, desc in EXERCISE1_SECTIONS[\"Section 4: Indexing and Slicing\"]]\n",
        "test_runner.test_section(\"Section 4: Indexing and Slicing\", validator, section_tests, locals())"
      ]
    },
    {
      "cell_type": "markdown",
      "metadata": {
        "id": "9xoaBb4QsxOc"
      },
      "source": [
        "## Section 5: Tensor Reshaping and Dimension Manipulation\n",
        "\n",
        "Learn to manipulate tensor dimensions and understand memory layout."
      ]
    },
    {
      "cell_type": "code",
      "execution_count": 59,
      "metadata": {
        "colab": {
          "base_uri": "https://localhost:8080/"
        },
        "id": "LNtV7P4isxOc",
        "outputId": "ca439a08-8984-45cf-9dfb-48d948cc3f76"
      },
      "outputs": [
        {
          "name": "stdout",
          "output_type": "stream",
          "text": [
            "Original tensor: tensor([ 0,  1,  2,  3,  4,  5,  6,  7,  8,  9, 10, 11])\n",
            "Original shape: torch.Size([12])\n",
            "\n",
            "Tensor with single dimensions: shape torch.Size([1, 3, 1, 4])\n",
            "tensor([[[[ 2.1369,  2.1969,  0.9145, -0.3625]],\n",
            "\n",
            "         [[ 1.4744, -0.8670, -0.8432,  0.0622]],\n",
            "\n",
            "         [[ 0.4080, -1.2516, -1.2717,  0.8055]]]])\n",
            "\n",
            "Reshaped 3x4:\n",
            "tensor([[ 0,  1,  2,  3],\n",
            "        [ 4,  5,  6,  7],\n",
            "        [ 8,  9, 10, 11]])\n",
            "Shape: torch.Size([3, 4])\n",
            "\n",
            "Reshaped 2x2x3:\n",
            "tensor([[[ 0,  1,  2],\n",
            "         [ 3,  4,  5]],\n",
            "\n",
            "        [[ 6,  7,  8],\n",
            "         [ 9, 10, 11]]])\n",
            "Shape: torch.Size([2, 2, 3])\n",
            "\n",
            "Flattened: tensor([ 0,  1,  2,  3,  4,  5,  6,  7,  8,  9, 10, 11])\n",
            "Shape: torch.Size([12])\n",
            "\n",
            "Unsqueezed: tensor([[ 0,  1,  2,  3,  4,  5,  6,  7,  8,  9, 10, 11]])\n",
            "Shape: torch.Size([1, 12])\n",
            "\n",
            "Squeezed shape: torch.Size([3, 4])\n"
          ]
        }
      ],
      "source": [
        "# Create original tensor for reshaping\n",
        "original = torch.arange(12)\n",
        "print(f\"Original tensor: {original}\")\n",
        "print(f\"Original shape: {original.shape}\")\n",
        "\n",
        "# TODO: Reshape to 3x4\n",
        "reshaped_3x4 = original.reshape(3,4)\n",
        "\n",
        "# TODO: Reshape to 2x2x3\n",
        "reshaped_2x2x3 = original.reshape(2,2,3)\n",
        "\n",
        "# TODO: Flatten the 2x2x3 tensor back to 1D\n",
        "flattened = reshaped_2x2x3.flatten()\n",
        "\n",
        "# TODO: Add a new dimension at position 0 (unsqueeze)\n",
        "unsqueezed = flattened.unsqueeze(0)\n",
        "\n",
        "# TODO: Remove single-dimensional entries (squeeze)\n",
        "tensor_with_singles = torch.randn(1, 3, 1, 4)\n",
        "print(f\"\\nTensor with single dimensions: shape {tensor_with_singles.shape}\")\n",
        "squeezed = tensor_with_singles.squeeze()\n",
        "print(tensor_with_singles)\n",
        "\n",
        "\n",
        "# Display your reshaped tensors\n",
        "print(f\"\\nReshaped 3x4:\\n{reshaped_3x4}\")\n",
        "print(f\"Shape: {reshaped_3x4.shape if reshaped_3x4 is not None else 'None'}\")\n",
        "\n",
        "print(f\"\\nReshaped 2x2x3:\\n{reshaped_2x2x3}\")\n",
        "print(f\"Shape: {reshaped_2x2x3.shape if reshaped_2x2x3 is not None else 'None'}\")\n",
        "\n",
        "print(f\"\\nFlattened: {flattened}\")\n",
        "print(f\"Shape: {flattened.shape if flattened is not None else 'None'}\")\n",
        "\n",
        "print(f\"\\nUnsqueezed: {unsqueezed}\")\n",
        "print(f\"Shape: {unsqueezed.shape if unsqueezed is not None else 'None'}\")\n",
        "\n",
        "print(f\"\\nSqueezed shape: {squeezed.shape if squeezed is not None else 'None'}\")"
      ]
    },
    {
      "cell_type": "code",
      "execution_count": 60,
      "metadata": {
        "colab": {
          "base_uri": "https://localhost:8080/"
        },
        "id": "tlSgnfQ-sxOc",
        "outputId": "e6cf69dc-f385-44f4-f099-d18b390cc17f"
      },
      "outputs": [
        {
          "name": "stdout",
          "output_type": "stream",
          "text": [
            "\n",
            "==================================================\n",
            "Testing: Section 5: Tensor Reshaping\n",
            "==================================================\n",
            "✅ Reshape to 3x4\n",
            "✅ Reshape to 2x2x3\n",
            "✅ Flatten tensor\n",
            "✅ Add dimension with unsqueeze\n",
            "✅ Remove single dimensions\n",
            "\n",
            "✅ Section 5: Tensor Reshaping - All tests passed!\n"
          ]
        },
        {
          "data": {
            "text/plain": [
              "True"
            ]
          },
          "execution_count": 60,
          "metadata": {},
          "output_type": "execute_result"
        }
      ],
      "source": [
        "# Test Section 5: Tensor Reshaping\n",
        "section_tests = [(getattr(validator, name), desc) for name, desc in EXERCISE1_SECTIONS[\"Section 5: Tensor Reshaping\"]]\n",
        "test_runner.test_section(\"Section 5: Tensor Reshaping\", validator, section_tests, locals())"
      ]
    },
    {
      "cell_type": "markdown",
      "metadata": {
        "id": "-Gm9zq68sxOc"
      },
      "source": [
        "## Section 6: Tensor Data Types\n",
        "\n",
        "Work with different tensor data types and learn about type conversions."
      ]
    },
    {
      "cell_type": "code",
      "execution_count": 64,
      "metadata": {
        "colab": {
          "base_uri": "https://localhost:8080/"
        },
        "id": "aUu892y1sxOc",
        "outputId": "4ea01d08-115d-4e4a-d9de-b25bb59d6cf8"
      },
      "outputs": [
        {
          "name": "stdout",
          "output_type": "stream",
          "text": [
            "Data Type Analysis:\n",
            "float32_tensor dtype: torch.float32, size: 4 bytes\n",
            "float64_tensor dtype: torch.float64, size: 8 bytes\n",
            "int_tensor dtype: torch.int64, size: 8 bytes\n",
            "int_to_float dtype: torch.float32, size: 4 bytes\n",
            "bool_tensor: tensor([False, False, False,  True,  True]), dtype: torch.bool\n",
            "\n",
            "Precision comparison:\n",
            "float32: tensor([[ 1.0921,  0.8560,  1.5192],\n",
            "        [ 0.4468, -0.2566,  1.7753]])\n",
            "float64: tensor([[ 1.0921,  0.8560,  1.5192],\n",
            "        [ 0.4468, -0.2566,  1.7753]], dtype=torch.float64)\n"
          ]
        }
      ],
      "source": [
        "# TODO: Create a float32 tensor\n",
        "float32_tensor = torch.randn(2, 3)\n",
        "\n",
        "# TODO: Convert it to float64 (double precision)\n",
        "float64_tensor = float32_tensor.double()\n",
        "\n",
        "# TODO: Create an integer tensor and convert to float\n",
        "int_tensor = torch.tensor([1,2,3])\n",
        "int_to_float = int_tensor.float()\n",
        "\n",
        "# TODO: Create a boolean tensor from a condition\n",
        "comparison_tensor = torch.tensor([1, 2, 3, 4, 5])\n",
        "bool_tensor = comparison_tensor > 3  # Elements greater than 3\n",
        "\n",
        "# Display data types and their properties\n",
        "print(\"Data Type Analysis:\")\n",
        "if float32_tensor is not None:\n",
        "    print(f\"float32_tensor dtype: {float32_tensor.dtype}, size: {float32_tensor.element_size()} bytes\")\n",
        "if float64_tensor is not None:\n",
        "    print(f\"float64_tensor dtype: {float64_tensor.dtype}, size: {float64_tensor.element_size()} bytes\")\n",
        "if int_tensor is not None:\n",
        "    print(f\"int_tensor dtype: {int_tensor.dtype}, size: {int_tensor.element_size()} bytes\")\n",
        "if int_to_float is not None:\n",
        "    print(f\"int_to_float dtype: {int_to_float.dtype}, size: {int_to_float.element_size()} bytes\")\n",
        "if bool_tensor is not None:\n",
        "    print(f\"bool_tensor: {bool_tensor}, dtype: {bool_tensor.dtype}\")\n",
        "\n",
        "# Demonstrate precision differences\n",
        "if float32_tensor is not None and float64_tensor is not None:\n",
        "    print(f\"\\nPrecision comparison:\")\n",
        "    print(f\"float32: {float32_tensor}\")\n",
        "    print(f\"float64: {float64_tensor}\")"
      ]
    },
    {
      "cell_type": "code",
      "execution_count": 65,
      "metadata": {
        "colab": {
          "base_uri": "https://localhost:8080/"
        },
        "id": "BWf5OxcjsxOc",
        "outputId": "a1d2faf1-c967-4460-a106-64130411756d"
      },
      "outputs": [
        {
          "name": "stdout",
          "output_type": "stream",
          "text": [
            "\n",
            "==================================================\n",
            "Testing: Section 6: Data Types\n",
            "==================================================\n",
            "✅ Create float32 tensor\n",
            "✅ Convert to float64\n",
            "✅ Convert int to float\n",
            "✅ Create boolean tensor\n",
            "\n",
            "✅ Section 6: Data Types - All tests passed!\n"
          ]
        },
        {
          "data": {
            "text/plain": [
              "True"
            ]
          },
          "execution_count": 65,
          "metadata": {},
          "output_type": "execute_result"
        }
      ],
      "source": [
        "# Test Section 6: Data Types\n",
        "section_tests = [(getattr(validator, name), desc) for name, desc in EXERCISE1_SECTIONS[\"Section 6: Data Types\"]]\n",
        "test_runner.test_section(\"Section 6: Data Types\", validator, section_tests, locals())"
      ]
    },
    {
      "cell_type": "markdown",
      "metadata": {
        "id": "OyIWf3W_sxOc"
      },
      "source": [
        "## Section 7: NumPy Interoperability\n",
        "\n",
        "Convert between PyTorch tensors and NumPy arrays, understanding memory sharing."
      ]
    },
    {
      "cell_type": "code",
      "execution_count": 68,
      "metadata": {
        "colab": {
          "base_uri": "https://localhost:8080/"
        },
        "id": "Uueo5yaosxOc",
        "outputId": "ecfdf3b9-f59b-4dfa-cd8d-9fb74705e9c5"
      },
      "outputs": [
        {
          "name": "stdout",
          "output_type": "stream",
          "text": [
            "Conversion Results:\n",
            "Original NumPy array:\n",
            "[[1 2 3]\n",
            " [4 5 6]]\n",
            "Tensor from NumPy: tensor([[1, 2, 3],\n",
            "        [4, 5, 6]])\n",
            "Tensor from NumPy dtype: torch.int64\n",
            "\n",
            "Original PyTorch tensor: tensor([[ 1.3099, -2.1073, -0.2211],\n",
            "        [ 0.9579, -1.3392, -1.3702]])\n",
            "NumPy from tensor: [[ 1.3099017  -2.1073341  -0.22107579]\n",
            " [ 0.95793784 -1.3392483  -1.3702017 ]]\n"
          ]
        }
      ],
      "source": [
        "# TODO: Create a NumPy array and convert to tensor\n",
        "numpy_array = np.array([[1, 2, 3], [4, 5, 6]])\n",
        "tensor_from_numpy = torch.from_numpy(numpy_array)\n",
        "\n",
        "# TODO: Create a tensor and convert to NumPy array\n",
        "pytorch_tensor = torch.randn(2, 3)\n",
        "numpy_from_tensor = pytorch_tensor.numpy()\n",
        "\n",
        "# TODO: Demonstrate memory sharing between tensor and numpy array\n",
        "shared_numpy = np.ones((2, 2))\n",
        "shared_tensor = None\n",
        "\n",
        "# Display conversions\n",
        "print(\"Conversion Results:\")\n",
        "print(f\"Original NumPy array:\\n{numpy_array}\")\n",
        "print(f\"Tensor from NumPy: {tensor_from_numpy}\")\n",
        "print(f\"Tensor from NumPy dtype: {tensor_from_numpy.dtype if tensor_from_numpy is not None else 'None'}\")\n",
        "\n",
        "print(f\"\\nOriginal PyTorch tensor: {pytorch_tensor}\")\n",
        "print(f\"NumPy from tensor: {numpy_from_tensor}\")\n",
        "\n",
        "# Demonstrate memory sharing\n",
        "if shared_tensor is not None:\n",
        "    print(f\"\\nBefore modification:\")\n",
        "    print(f\"NumPy array: {shared_numpy}\")\n",
        "    print(f\"Shared tensor: {shared_tensor}\")\n",
        "\n",
        "    # Modify the numpy array\n",
        "    shared_numpy[0, 0] = 999\n",
        "    print(f\"\\nAfter modifying NumPy array:\")\n",
        "    print(f\"NumPy array: {shared_numpy}\")\n",
        "    print(f\"Shared tensor: {shared_tensor}\")\n",
        "    print(\"Notice how both arrays changed - they share memory!\")\n",
        "\n",
        "    # Reset for testing\n",
        "    shared_numpy[0, 0] = 1"
      ]
    },
    {
      "cell_type": "code",
      "execution_count": 69,
      "metadata": {
        "colab": {
          "base_uri": "https://localhost:8080/"
        },
        "id": "29axx_81sxOc",
        "outputId": "a53473d3-027c-4f58-e8bb-00dd66e0606f"
      },
      "outputs": [
        {
          "name": "stdout",
          "output_type": "stream",
          "text": [
            "\n",
            "==================================================\n",
            "Testing: Section 7: NumPy Interoperability\n",
            "==================================================\n",
            "✅ Convert NumPy to tensor\n",
            "✅ Convert tensor to NumPy\n",
            "❌ Test shared memory: shared_tensor should be of type Tensor, got NoneType\n",
            "\n",
            "❌ Section 7: NumPy Interoperability - Some tests failed. Review the errors above.\n"
          ]
        },
        {
          "data": {
            "text/plain": [
              "False"
            ]
          },
          "execution_count": 69,
          "metadata": {},
          "output_type": "execute_result"
        }
      ],
      "source": [
        "# Test Section 7: NumPy Interoperability\n",
        "section_tests = [(getattr(validator, name), desc) for name, desc in EXERCISE1_SECTIONS[\"Section 7: NumPy Interoperability\"]]\n",
        "test_runner.test_section(\"Section 7: NumPy Interoperability\", validator, section_tests, locals())"
      ]
    },
    {
      "cell_type": "markdown",
      "metadata": {
        "id": "-JexXcdDsxOd"
      },
      "source": [
        "## Final Validation\n",
        "\n",
        "Run the complete test suite summary to see your overall progress."
      ]
    },
    {
      "cell_type": "code",
      "execution_count": null,
      "metadata": {
        "id": "AWdwfeApsxOd"
      },
      "outputs": [],
      "source": [
        "# Display final summary of all tests\n",
        "test_runner.final_summary()"
      ]
    }
  ],
  "metadata": {
    "colab": {
      "provenance": []
    },
    "kernelspec": {
      "display_name": "Python 3",
      "language": "python",
      "name": "python3"
    },
    "language_info": {
      "codemirror_mode": {
        "name": "ipython",
        "version": 3
      },
      "file_extension": ".py",
      "mimetype": "text/x-python",
      "name": "python",
      "nbconvert_exporter": "python",
      "pygments_lexer": "ipython3",
      "version": "3.12.0"
    }
  },
  "nbformat": 4,
  "nbformat_minor": 0
}
